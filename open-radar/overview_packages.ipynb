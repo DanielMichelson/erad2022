{
 "cells": [
  {
   "cell_type": "markdown",
   "id": "a4989e49",
   "metadata": {
    "slideshow": {
     "slide_type": "slide"
    }
   },
   "source": [
    "# Open radar packages that will be covered in this course\n",
    "\n",
    "\n",
    "- [Py-ART](https://github.com/ARM-DOE/pyart)\n",
    "- [ωradlib](https://github.com/wradlib/wradlib)\n",
    "- [LROSE](http://lrose.net/)\n",
    "- [Baltrad](https://github.com/baltrad)"
   ]
  },
  {
   "cell_type": "markdown",
   "id": "ba2a068b",
   "metadata": {
    "slideshow": {
     "slide_type": "slide"
    }
   },
   "source": [
    "# Py-ART\n",
    "\n",
    "- Python-based\n",
    "- Very much based on the CFRadial data structure (Radar Object)\n",
    "- Provides IO and graphical tools as well as radar data processing\n",
    "- Can also deal with Cartesian data (but with less features)\n",
    "- MeteoSwiss [Py-ART fork](https://github.com/meteoswiss/pyart) has more features (but less quality control)\n",
    "\n",
    "<img style=\"margin-left: auto; margin-right: auto;\" src=\"https://arm-doe.github.io/pyart/_images/rhi.png\" width = 60%>\n"
   ]
  },
  {
   "cell_type": "markdown",
   "id": "3fa7cdd0",
   "metadata": {
    "slideshow": {
     "slide_type": "slide"
    }
   },
   "source": [
    "# ωradlib\n",
    "\n",
    "- Python-based\n",
    "- More data agnostic than Py-ART\n",
    "- Provides IO and graphical tools as well as radar data processing\n",
    "- Better support for xarray data types"
   ]
  },
  {
   "cell_type": "markdown",
   "id": "30021a1f",
   "metadata": {
    "slideshow": {
     "slide_type": "slide"
    }
   },
   "source": [
    "# LROSE\n",
    "\n",
    "- Toolbox of common routines for lidar, radar and profiler data processing\n",
    "- Written in C/C++\n",
    "- Provides well-tested basic building blocks that can be combined to create complex processing routines\n"
   ]
  },
  {
   "cell_type": "markdown",
   "id": "9f87a8f2",
   "metadata": {},
   "source": [
    "# Baltrad\n",
    "\n",
    "- Set of toolboxes for efficient exchange and homogeneous processing of radar data from different sources  \n",
    "- Mixture of C/C++, Python and Java"
   ]
  }
 ],
 "metadata": {
  "celltoolbar": "Slideshow",
  "kernelspec": {
   "display_name": "Python 3 (ipykernel)",
   "language": "python",
   "name": "python3"
  },
  "language_info": {
   "codemirror_mode": {
    "name": "ipython",
    "version": 3
   },
   "file_extension": ".py",
   "mimetype": "text/x-python",
   "name": "python",
   "nbconvert_exporter": "python",
   "pygments_lexer": "ipython3",
   "version": "3.8.13"
  }
 },
 "nbformat": 4,
 "nbformat_minor": 5
}
